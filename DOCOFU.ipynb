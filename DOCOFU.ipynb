{
 "cells": [
  {
   "cell_type": "code",
   "execution_count": 1,
   "id": "fiscal-rugby",
   "metadata": {},
   "outputs": [],
   "source": [
    "import pandas as pd"
   ]
  },
  {
   "cell_type": "code",
   "execution_count": 2,
   "id": "cubic-control",
   "metadata": {},
   "outputs": [
    {
     "data": {
      "text/html": [
       "<div>\n",
       "<style scoped>\n",
       "    .dataframe tbody tr th:only-of-type {\n",
       "        vertical-align: middle;\n",
       "    }\n",
       "\n",
       "    .dataframe tbody tr th {\n",
       "        vertical-align: top;\n",
       "    }\n",
       "\n",
       "    .dataframe thead th {\n",
       "        text-align: right;\n",
       "    }\n",
       "</style>\n",
       "<table border=\"1\" class=\"dataframe\">\n",
       "  <thead>\n",
       "    <tr style=\"text-align: right;\">\n",
       "      <th></th>\n",
       "      <th>Company</th>\n",
       "      <th>Title</th>\n",
       "      <th>Category</th>\n",
       "      <th>Location</th>\n",
       "      <th>Responsibilities</th>\n",
       "      <th>Minimum_Qualifications</th>\n",
       "      <th>Preferred_Qualifications</th>\n",
       "    </tr>\n",
       "  </thead>\n",
       "  <tbody>\n",
       "    <tr>\n",
       "      <th>0</th>\n",
       "      <td>Google</td>\n",
       "      <td>Account Executive (Direct), United Kingdom/Ire...</td>\n",
       "      <td>Sales &amp; Account Management</td>\n",
       "      <td>Dublin, Ireland</td>\n",
       "      <td>Establish credibility and develop partnerships...</td>\n",
       "      <td>Bachelor's degree or equivalent practical expe...</td>\n",
       "      <td>Experience managing and building a pipeline to...</td>\n",
       "    </tr>\n",
       "    <tr>\n",
       "      <th>1</th>\n",
       "      <td>Google</td>\n",
       "      <td>Account Executive, Democratic Elections</td>\n",
       "      <td>Sales &amp; Account Management</td>\n",
       "      <td>Washington, DC, United States</td>\n",
       "      <td>Develop and update quarterly business plans in...</td>\n",
       "      <td>BA/BS degree or equivalent practical experienc...</td>\n",
       "      <td>Experience working with or buying online media...</td>\n",
       "    </tr>\n",
       "    <tr>\n",
       "      <th>2</th>\n",
       "      <td>Google</td>\n",
       "      <td>Account Executive, Google Cloud</td>\n",
       "      <td>Sales &amp; Account Management</td>\n",
       "      <td>London, United Kingdom</td>\n",
       "      <td>Build and maintain executive relationships wit...</td>\n",
       "      <td>BA/BS degree or equivalent practical experienc...</td>\n",
       "      <td>Experience with Salesforce and CRM systems int...</td>\n",
       "    </tr>\n",
       "  </tbody>\n",
       "</table>\n",
       "</div>"
      ],
      "text/plain": [
       "  Company                                              Title  \\\n",
       "0  Google  Account Executive (Direct), United Kingdom/Ire...   \n",
       "1  Google            Account Executive, Democratic Elections   \n",
       "2  Google                    Account Executive, Google Cloud   \n",
       "\n",
       "                     Category                       Location  \\\n",
       "0  Sales & Account Management                Dublin, Ireland   \n",
       "1  Sales & Account Management  Washington, DC, United States   \n",
       "2  Sales & Account Management         London, United Kingdom   \n",
       "\n",
       "                                    Responsibilities  \\\n",
       "0  Establish credibility and develop partnerships...   \n",
       "1  Develop and update quarterly business plans in...   \n",
       "2  Build and maintain executive relationships wit...   \n",
       "\n",
       "                              Minimum_Qualifications  \\\n",
       "0  Bachelor's degree or equivalent practical expe...   \n",
       "1  BA/BS degree or equivalent practical experienc...   \n",
       "2  BA/BS degree or equivalent practical experienc...   \n",
       "\n",
       "                            Preferred_Qualifications  \n",
       "0  Experience managing and building a pipeline to...  \n",
       "1  Experience working with or buying online media...  \n",
       "2  Experience with Salesforce and CRM systems int...  "
      ]
     },
     "execution_count": 2,
     "metadata": {},
     "output_type": "execute_result"
    }
   ],
   "source": [
    "dataset = pd.read_csv('job_skills.csv')\n",
    "dataset.head(3)"
   ]
  },
  {
   "cell_type": "code",
   "execution_count": 3,
   "id": "established-rental",
   "metadata": {},
   "outputs": [
    {
     "data": {
      "text/plain": [
       "Company                      1\n",
       "Title                        1\n",
       "Category                     1\n",
       "Location                     1\n",
       "Responsibilities            16\n",
       "Minimum_Qualifications      15\n",
       "Preferred_Qualifications    15\n",
       "dtype: int64"
      ]
     },
     "execution_count": 3,
     "metadata": {},
     "output_type": "execute_result"
    }
   ],
   "source": [
    "pd.isnull(dataset).sum()"
   ]
  },
  {
   "cell_type": "code",
   "execution_count": 4,
   "id": "collect-qatar",
   "metadata": {},
   "outputs": [],
   "source": [
    "dataset_clear = dataset.dropna(how='any',axis='rows')"
   ]
  },
  {
   "cell_type": "code",
   "execution_count": 5,
   "id": "consolidated-limitation",
   "metadata": {},
   "outputs": [],
   "source": [
    "features = dataset_clear['Minimum_Qualifications']\n",
    "labels = dataset_clear['Title']"
   ]
  },
  {
   "cell_type": "code",
   "execution_count": 6,
   "id": "compliant-possession",
   "metadata": {},
   "outputs": [],
   "source": [
    "from sklearn.feature_extraction.text import CountVectorizer\n",
    "\n",
    "count_vect = CountVectorizer()\n",
    "\n",
    "features_counts = count_vect.fit_transform(features)"
   ]
  },
  {
   "cell_type": "code",
   "execution_count": 7,
   "id": "employed-chicago",
   "metadata": {},
   "outputs": [],
   "source": [
    "from sklearn.feature_extraction.text import TfidfTransformer\n",
    "\n",
    "tfidf_transformer = TfidfTransformer()\n",
    "\n",
    "features_tfidf = tfidf_transformer.fit_transform(features_counts)"
   ]
  },
  {
   "cell_type": "code",
   "execution_count": 61,
   "id": "buried-harmony",
   "metadata": {},
   "outputs": [],
   "source": [
    "from sklearn.model_selection import train_test_split\n",
    "\n",
    "num_test = 0.20\n",
    "features_train, features_test, labels_train, labels_test = train_test_split(features_tfidf, labels, test_size=num_test, random_state=23)"
   ]
  },
  {
   "cell_type": "code",
   "execution_count": 63,
   "id": "bored-steel",
   "metadata": {},
   "outputs": [],
   "source": [
    "from sklearn.naive_bayes import MultinomialNB\n",
    "clf = MultinomialNB().fit(features_train, labels_train)"
   ]
  },
  {
   "cell_type": "code",
   "execution_count": 101,
   "id": "suffering-estonia",
   "metadata": {},
   "outputs": [
    {
     "name": "stdout",
     "output_type": "stream",
     "text": [
      "saya dapat mengkonfigurasi mikrotik\n"
     ]
    }
   ],
   "source": [
    "features_new = input()"
   ]
  },
  {
   "cell_type": "code",
   "execution_count": 102,
   "id": "promising-legend",
   "metadata": {},
   "outputs": [],
   "source": [
    "features_new_token = count_vect.transform([features_new])"
   ]
  },
  {
   "cell_type": "code",
   "execution_count": 103,
   "id": "instructional-ratio",
   "metadata": {},
   "outputs": [],
   "source": [
    "predicted = clf.predict(features_new_token)"
   ]
  },
  {
   "cell_type": "code",
   "execution_count": 104,
   "id": "adult-mercury",
   "metadata": {},
   "outputs": [
    {
     "name": "stdout",
     "output_type": "stream",
     "text": [
      "['BOLD Intern, Summer 2018']\n"
     ]
    }
   ],
   "source": [
    "print(predicted)"
   ]
  }
 ],
 "metadata": {
  "kernelspec": {
   "display_name": "Python 3",
   "language": "python",
   "name": "python3"
  },
  "language_info": {
   "codemirror_mode": {
    "name": "ipython",
    "version": 3
   },
   "file_extension": ".py",
   "mimetype": "text/x-python",
   "name": "python",
   "nbconvert_exporter": "python",
   "pygments_lexer": "ipython3",
   "version": "3.8.5"
  }
 },
 "nbformat": 4,
 "nbformat_minor": 5
}
